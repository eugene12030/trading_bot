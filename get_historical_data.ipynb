{
 "cells": [
  {
   "cell_type": "code",
   "execution_count": 1,
   "metadata": {
    "vscode": {
     "languageId": "bat"
    }
   },
   "outputs": [
    {
     "name": "stdout",
     "output_type": "stream",
     "text": [
      "Requirement already satisfied: backtrader_bybit in c:\\users\\evges\\anaconda3\\lib\\site-packages (2.0.9)\n",
      "Requirement already satisfied: pybit in c:\\users\\evges\\anaconda3\\lib\\site-packages (from backtrader_bybit) (5.8.0)\n",
      "Requirement already satisfied: pycryptodome in c:\\users\\evges\\anaconda3\\lib\\site-packages (from backtrader_bybit) (3.21.0)\n",
      "Requirement already satisfied: backtrader in c:\\users\\evges\\anaconda3\\lib\\site-packages (from backtrader_bybit) (1.9.78.123)\n",
      "Requirement already satisfied: pandas in c:\\users\\evges\\anaconda3\\lib\\site-packages (from backtrader_bybit) (2.2.2)\n",
      "Requirement already satisfied: matplotlib in c:\\users\\evges\\anaconda3\\lib\\site-packages (from backtrader_bybit) (3.8.4)\n",
      "Requirement already satisfied: contourpy>=1.0.1 in c:\\users\\evges\\anaconda3\\lib\\site-packages (from matplotlib->backtrader_bybit) (1.2.0)\n",
      "Requirement already satisfied: cycler>=0.10 in c:\\users\\evges\\anaconda3\\lib\\site-packages (from matplotlib->backtrader_bybit) (0.11.0)\n",
      "Requirement already satisfied: fonttools>=4.22.0 in c:\\users\\evges\\anaconda3\\lib\\site-packages (from matplotlib->backtrader_bybit) (4.51.0)\n",
      "Requirement already satisfied: kiwisolver>=1.3.1 in c:\\users\\evges\\anaconda3\\lib\\site-packages (from matplotlib->backtrader_bybit) (1.4.4)\n",
      "Requirement already satisfied: numpy>=1.21 in c:\\users\\evges\\anaconda3\\lib\\site-packages (from matplotlib->backtrader_bybit) (1.26.4)\n",
      "Requirement already satisfied: packaging>=20.0 in c:\\users\\evges\\anaconda3\\lib\\site-packages (from matplotlib->backtrader_bybit) (23.2)\n",
      "Requirement already satisfied: pillow>=8 in c:\\users\\evges\\anaconda3\\lib\\site-packages (from matplotlib->backtrader_bybit) (10.3.0)\n",
      "Requirement already satisfied: pyparsing>=2.3.1 in c:\\users\\evges\\anaconda3\\lib\\site-packages (from matplotlib->backtrader_bybit) (3.0.9)\n",
      "Requirement already satisfied: python-dateutil>=2.7 in c:\\users\\evges\\anaconda3\\lib\\site-packages (from matplotlib->backtrader_bybit) (2.9.0.post0)\n",
      "Requirement already satisfied: pytz>=2020.1 in c:\\users\\evges\\anaconda3\\lib\\site-packages (from pandas->backtrader_bybit) (2024.1)\n",
      "Requirement already satisfied: tzdata>=2022.7 in c:\\users\\evges\\anaconda3\\lib\\site-packages (from pandas->backtrader_bybit) (2023.3)\n",
      "Requirement already satisfied: requests in c:\\users\\evges\\anaconda3\\lib\\site-packages (from pybit->backtrader_bybit) (2.32.2)\n",
      "Requirement already satisfied: websocket-client in c:\\users\\evges\\anaconda3\\lib\\site-packages (from pybit->backtrader_bybit) (1.8.0)\n",
      "Requirement already satisfied: six>=1.5 in c:\\users\\evges\\anaconda3\\lib\\site-packages (from python-dateutil>=2.7->matplotlib->backtrader_bybit) (1.16.0)\n",
      "Requirement already satisfied: charset-normalizer<4,>=2 in c:\\users\\evges\\anaconda3\\lib\\site-packages (from requests->pybit->backtrader_bybit) (2.0.4)\n",
      "Requirement already satisfied: idna<4,>=2.5 in c:\\users\\evges\\anaconda3\\lib\\site-packages (from requests->pybit->backtrader_bybit) (3.7)\n",
      "Requirement already satisfied: urllib3<3,>=1.21.1 in c:\\users\\evges\\anaconda3\\lib\\site-packages (from requests->pybit->backtrader_bybit) (2.2.2)\n",
      "Requirement already satisfied: certifi>=2017.4.17 in c:\\users\\evges\\anaconda3\\lib\\site-packages (from requests->pybit->backtrader_bybit) (2024.6.2)\n",
      "Note: you may need to restart the kernel to use updated packages.\n"
     ]
    }
   ],
   "source": [
    "pip install backtrader_bybit"
   ]
  },
  {
   "cell_type": "code",
   "execution_count": 2,
   "metadata": {},
   "outputs": [],
   "source": [
    "import datetime as dt\n",
    "import backtrader as bt\n",
    "import pandas as pd\n",
    "from backtrader_bybit import BybitStore\n",
    "from config import BybitConfig # Файл конфигурации"
   ]
  },
  {
   "cell_type": "code",
   "execution_count": 3,
   "metadata": {},
   "outputs": [],
   "source": [
    "\n",
    "# Торговая система\n",
    "class StrategySaveOHLCVToDF(bt.Strategy):\n",
    "    \"\"\"Сохраняет OHLCV в DF\"\"\"\n",
    "    params = (  # Параметры торговой системы\n",
    "        ('coin_target', ''),  #\n",
    "    )\n",
    "\n",
    "    def __init__(self):\n",
    "        self.df = {}\n",
    "        self.df_tf = {}\n",
    "\n",
    "    def start(self):\n",
    "        for data in self.datas:  # Пробегаемся по всем запрошенным тикерам\n",
    "            ticker = data._name\n",
    "            self.df[ticker] = []\n",
    "            self.df_tf[ticker] = self.broker._store.get_interval(data._timeframe, data._compression)\n",
    "\n",
    "    def next(self):\n",
    "        \"\"\"Приход нового бара тикера\"\"\"\n",
    "        for data in self.datas:  # Пробегаемся по всем запрошенным тикерам\n",
    "            ticker = data._name\n",
    "            try:\n",
    "                status = data._state  # 0 - Live data, 1 - History data, 2 - None\n",
    "                _interval = data.interval\n",
    "            except Exception as e:\n",
    "                if data.resampling == 1:\n",
    "                    status = 22\n",
    "                    _interval = self.broker._store.get_interval(data._timeframe, data._compression)\n",
    "                    _interval = f\"_{_interval}\"\n",
    "                else:\n",
    "                    print(\"Error:\", e)\n",
    "\n",
    "            if status == 1:\n",
    "                _state = \"Resampled Data\"\n",
    "                if status == 1: _state = \"False - History data\"\n",
    "                if status == 0: _state = \"True - Live data\"\n",
    "\n",
    "                self.df[ticker].append([bt.num2date(data.datetime[0]), data.open[0], data.high[0], data.low[0], data.close[0], data.volume[0]])\n",
    "\n",
    "                print('{} / {} [{}] - Open: {}, High: {}, Low: {}, Close: {}, Volume: {} - Live: {}'.format(\n",
    "                    bt.num2date(data.datetime[0]),\n",
    "                    data._name,\n",
    "                    _interval,  # таймфрейм тикера\n",
    "                    data.open[0],\n",
    "                    data.high[0],\n",
    "                    data.low[0],\n",
    "                    data.close[0],\n",
    "                    data.volume[0],\n",
    "                    _state,\n",
    "                ))\n"
   ]
  },
  {
   "cell_type": "code",
   "execution_count": 4,
   "metadata": {},
   "outputs": [
    {
     "name": "stderr",
     "output_type": "stream",
     "text": [
      "2024-12-19 16:52:46 - pybit._http_manager - ERROR - invalid request, please check your server timestamp or recv_window param. req_timestamp[1734616365668],server_timestamp[1734616364426],recv_window[5000] (ErrCode: 10002). Added 2.5 seconds to recv_window. 2 retries remain.\n",
      "2024-12-19 16:52:49 - pybit._http_manager - ERROR - invalid request, please check your server timestamp or recv_window param. req_timestamp[1734616369085],server_timestamp[1734616367689],recv_window[7500] (ErrCode: 10002). Added 2.5 seconds to recv_window. 1 retries remain.\n"
     ]
    },
    {
     "ename": "KeyboardInterrupt",
     "evalue": "",
     "output_type": "error",
     "traceback": [
      "\u001b[1;31m---------------------------------------------------------------------------\u001b[0m",
      "\u001b[1;31mKeyboardInterrupt\u001b[0m                         Traceback (most recent call last)",
      "Cell \u001b[1;32mIn[4], line 6\u001b[0m\n\u001b[0;32m      3\u001b[0m coin_target \u001b[38;5;241m=\u001b[39m \u001b[38;5;124m'\u001b[39m\u001b[38;5;124mUSDT\u001b[39m\u001b[38;5;124m'\u001b[39m  \u001b[38;5;66;03m# базовый тикер, в котором будут осуществляться расчеты\u001b[39;00m\n\u001b[0;32m      4\u001b[0m symbol \u001b[38;5;241m=\u001b[39m \u001b[38;5;124m'\u001b[39m\u001b[38;5;124mBTC\u001b[39m\u001b[38;5;124m'\u001b[39m \u001b[38;5;241m+\u001b[39m coin_target  \u001b[38;5;66;03m# тикер, по которому будем получать данные в формате <КодТикераБазовыйТикер>\u001b[39;00m\n\u001b[1;32m----> 6\u001b[0m store \u001b[38;5;241m=\u001b[39m BybitStore(\n\u001b[0;32m      7\u001b[0m     api_key\u001b[38;5;241m=\u001b[39mBybitConfig\u001b[38;5;241m.\u001b[39mBYBIT_API_KEY,\n\u001b[0;32m      8\u001b[0m     api_secret\u001b[38;5;241m=\u001b[39mBybitConfig\u001b[38;5;241m.\u001b[39mBYBIT_API_SECRET,\n\u001b[0;32m      9\u001b[0m     coin_target\u001b[38;5;241m=\u001b[39mcoin_target,\n\u001b[0;32m     10\u001b[0m     testnet\u001b[38;5;241m=\u001b[39m\u001b[38;5;28;01mFalse\u001b[39;00m)  \u001b[38;5;66;03m# Хранилище Binance\u001b[39;00m\n\u001b[0;32m     11\u001b[0m broker \u001b[38;5;241m=\u001b[39m store\u001b[38;5;241m.\u001b[39mgetbroker()\n\u001b[0;32m     12\u001b[0m cerebro\u001b[38;5;241m.\u001b[39msetbroker(broker)\n",
      "File \u001b[1;32mc:\\Users\\Evges\\anaconda3\\Lib\\site-packages\\backtrader_bybit\\bybit_store.py:40\u001b[0m, in \u001b[0;36mBybitStore.__init__\u001b[1;34m(self, api_key, api_secret, coin_target, testnet, category, accountType)\u001b[0m\n\u001b[0;32m     38\u001b[0m \u001b[38;5;28mself\u001b[39m\u001b[38;5;241m.\u001b[39m_cash \u001b[38;5;241m=\u001b[39m \u001b[38;5;241m0\u001b[39m\n\u001b[0;32m     39\u001b[0m \u001b[38;5;28mself\u001b[39m\u001b[38;5;241m.\u001b[39m_value \u001b[38;5;241m=\u001b[39m \u001b[38;5;241m0\u001b[39m\n\u001b[1;32m---> 40\u001b[0m \u001b[38;5;28mself\u001b[39m\u001b[38;5;241m.\u001b[39mget_balance()\n\u001b[0;32m     42\u001b[0m \u001b[38;5;28mself\u001b[39m\u001b[38;5;241m.\u001b[39m_step_size \u001b[38;5;241m=\u001b[39m {}\n\u001b[0;32m     43\u001b[0m \u001b[38;5;28mself\u001b[39m\u001b[38;5;241m.\u001b[39m_min_order \u001b[38;5;241m=\u001b[39m {}\n",
      "File \u001b[1;32mc:\\Users\\Evges\\anaconda3\\Lib\\site-packages\\backtrader_bybit\\bybit_store.py:113\u001b[0m, in \u001b[0;36mBybitStore.get_balance\u001b[1;34m(self)\u001b[0m\n\u001b[0;32m    111\u001b[0m \u001b[38;5;28;01mdef\u001b[39;00m \u001b[38;5;21mget_balance\u001b[39m(\u001b[38;5;28mself\u001b[39m, ):\n\u001b[0;32m    112\u001b[0m \u001b[38;5;250m    \u001b[39m\u001b[38;5;124;03m\"\"\"Balance in USDT for example - in coin target\"\"\"\u001b[39;00m\n\u001b[1;32m--> 113\u001b[0m     free, locked \u001b[38;5;241m=\u001b[39m \u001b[38;5;28mself\u001b[39m\u001b[38;5;241m.\u001b[39mget_asset_balance(\u001b[38;5;28mself\u001b[39m\u001b[38;5;241m.\u001b[39mcoin_target)\n\u001b[0;32m    114\u001b[0m     \u001b[38;5;28mself\u001b[39m\u001b[38;5;241m.\u001b[39m_cash \u001b[38;5;241m=\u001b[39m free\n\u001b[0;32m    115\u001b[0m     \u001b[38;5;28mself\u001b[39m\u001b[38;5;241m.\u001b[39m_value \u001b[38;5;241m=\u001b[39m free \u001b[38;5;241m+\u001b[39m locked\n",
      "File \u001b[1;32mc:\\Users\\Evges\\anaconda3\\Lib\\site-packages\\backtrader_bybit\\bybit_store.py:88\u001b[0m, in \u001b[0;36mBybitStore.get_asset_balance\u001b[1;34m(self, asset)\u001b[0m\n\u001b[0;32m     87\u001b[0m \u001b[38;5;28;01mdef\u001b[39;00m \u001b[38;5;21mget_asset_balance\u001b[39m(\u001b[38;5;28mself\u001b[39m, asset):\n\u001b[1;32m---> 88\u001b[0m     w \u001b[38;5;241m=\u001b[39m \u001b[38;5;28mself\u001b[39m\u001b[38;5;241m.\u001b[39mbybit_session\u001b[38;5;241m.\u001b[39mget_wallet_balance(accountType\u001b[38;5;241m=\u001b[39m\u001b[38;5;28mself\u001b[39m\u001b[38;5;241m.\u001b[39maccountType)  \u001b[38;5;66;03m# wallet_balance\u001b[39;00m\n\u001b[0;32m     89\u001b[0m     balance \u001b[38;5;241m=\u001b[39m {}\n\u001b[0;32m     90\u001b[0m     \u001b[38;5;28;01mif\u001b[39;00m w \u001b[38;5;129;01mand\u001b[39;00m \u001b[38;5;124m'\u001b[39m\u001b[38;5;124mresult\u001b[39m\u001b[38;5;124m'\u001b[39m \u001b[38;5;129;01min\u001b[39;00m w \u001b[38;5;129;01mand\u001b[39;00m w[\u001b[38;5;124m'\u001b[39m\u001b[38;5;124mresult\u001b[39m\u001b[38;5;124m'\u001b[39m] \u001b[38;5;129;01mand\u001b[39;00m \u001b[38;5;124m'\u001b[39m\u001b[38;5;124mlist\u001b[39m\u001b[38;5;124m'\u001b[39m \u001b[38;5;129;01min\u001b[39;00m w[\u001b[38;5;124m'\u001b[39m\u001b[38;5;124mresult\u001b[39m\u001b[38;5;124m'\u001b[39m] \u001b[38;5;129;01mand\u001b[39;00m w[\u001b[38;5;124m'\u001b[39m\u001b[38;5;124mresult\u001b[39m\u001b[38;5;124m'\u001b[39m][\u001b[38;5;124m'\u001b[39m\u001b[38;5;124mlist\u001b[39m\u001b[38;5;124m'\u001b[39m]:\n",
      "File \u001b[1;32mc:\\Users\\Evges\\anaconda3\\Lib\\site-packages\\pybit\\_v5_account.py:21\u001b[0m, in \u001b[0;36mAccountHTTP.get_wallet_balance\u001b[1;34m(self, **kwargs)\u001b[0m\n\u001b[0;32m      6\u001b[0m \u001b[38;5;28;01mdef\u001b[39;00m \u001b[38;5;21mget_wallet_balance\u001b[39m(\u001b[38;5;28mself\u001b[39m, \u001b[38;5;241m*\u001b[39m\u001b[38;5;241m*\u001b[39mkwargs):\n\u001b[0;32m      7\u001b[0m \u001b[38;5;250m    \u001b[39m\u001b[38;5;124;03m\"\"\"Obtain wallet balance, query asset information of each currency, and account risk rate information under unified margin mode.\u001b[39;00m\n\u001b[0;32m      8\u001b[0m \u001b[38;5;124;03m    By default, currency information with assets or liabilities of 0 is not returned.\u001b[39;00m\n\u001b[0;32m      9\u001b[0m \n\u001b[1;32m   (...)\u001b[0m\n\u001b[0;32m     19\u001b[0m \u001b[38;5;124;03m        https://bybit-exchange.github.io/docs/v5/account/wallet-balance\u001b[39;00m\n\u001b[0;32m     20\u001b[0m \u001b[38;5;124;03m    \"\"\"\u001b[39;00m\n\u001b[1;32m---> 21\u001b[0m     \u001b[38;5;28;01mreturn\u001b[39;00m \u001b[38;5;28mself\u001b[39m\u001b[38;5;241m.\u001b[39m_submit_request(\n\u001b[0;32m     22\u001b[0m         method\u001b[38;5;241m=\u001b[39m\u001b[38;5;124m\"\u001b[39m\u001b[38;5;124mGET\u001b[39m\u001b[38;5;124m\"\u001b[39m,\n\u001b[0;32m     23\u001b[0m         path\u001b[38;5;241m=\u001b[39m\u001b[38;5;124mf\u001b[39m\u001b[38;5;124m\"\u001b[39m\u001b[38;5;132;01m{\u001b[39;00m\u001b[38;5;28mself\u001b[39m\u001b[38;5;241m.\u001b[39mendpoint\u001b[38;5;132;01m}\u001b[39;00m\u001b[38;5;132;01m{\u001b[39;00mAccount\u001b[38;5;241m.\u001b[39mGET_WALLET_BALANCE\u001b[38;5;132;01m}\u001b[39;00m\u001b[38;5;124m\"\u001b[39m,\n\u001b[0;32m     24\u001b[0m         query\u001b[38;5;241m=\u001b[39mkwargs,\n\u001b[0;32m     25\u001b[0m         auth\u001b[38;5;241m=\u001b[39m\u001b[38;5;28;01mTrue\u001b[39;00m,\n\u001b[0;32m     26\u001b[0m     )\n",
      "File \u001b[1;32mc:\\Users\\Evges\\anaconda3\\Lib\\site-packages\\pybit\\_http_manager.py:372\u001b[0m, in \u001b[0;36m_V5HTTPManager._submit_request\u001b[1;34m(self, method, path, query, auth)\u001b[0m\n\u001b[0;32m    370\u001b[0m     \u001b[38;5;66;03m# Log the error.\u001b[39;00m\n\u001b[0;32m    371\u001b[0m     \u001b[38;5;28mself\u001b[39m\u001b[38;5;241m.\u001b[39mlogger\u001b[38;5;241m.\u001b[39merror(\u001b[38;5;124mf\u001b[39m\u001b[38;5;124m\"\u001b[39m\u001b[38;5;132;01m{\u001b[39;00merror_msg\u001b[38;5;132;01m}\u001b[39;00m\u001b[38;5;124m. \u001b[39m\u001b[38;5;132;01m{\u001b[39;00mretries_remaining\u001b[38;5;132;01m}\u001b[39;00m\u001b[38;5;124m\"\u001b[39m)\n\u001b[1;32m--> 372\u001b[0m     time\u001b[38;5;241m.\u001b[39msleep(delay_time)\n\u001b[0;32m    373\u001b[0m     \u001b[38;5;28;01mcontinue\u001b[39;00m\n\u001b[0;32m    375\u001b[0m \u001b[38;5;28;01melif\u001b[39;00m s_json[ret_code] \u001b[38;5;129;01min\u001b[39;00m \u001b[38;5;28mself\u001b[39m\u001b[38;5;241m.\u001b[39mignore_codes:\n",
      "\u001b[1;31mKeyboardInterrupt\u001b[0m: "
     ]
    }
   ],
   "source": [
    "cerebro = bt.Cerebro(quicknotify=True)\n",
    "\n",
    "coin_target = 'USDT'  # базовый тикер, в котором будут осуществляться расчеты\n",
    "symbol = 'BTC' + coin_target  # тикер, по которому будем получать данные в формате <КодТикераБазовыйТикер>\n",
    "\n",
    "store = BybitStore(\n",
    "    api_key=BybitConfig.BYBIT_API_KEY,\n",
    "    api_secret=BybitConfig.BYBIT_API_SECRET,\n",
    "    coin_target=coin_target,\n",
    "    testnet=False)  # Хранилище Binance\n",
    "broker = store.getbroker()\n",
    "cerebro.setbroker(broker)\n",
    "\n",
    "num_days = 3000\n",
    "# 1. Исторические D1 бары за 365 дней + График т.к. оффлайн/ таймфрейм D1\n",
    "from_date = dt.datetime.utcnow() - dt.timedelta(days=num_days)  # берем данные за 365 дней от текущего времени\n",
    "data = store.getdata(timeframe=bt.TimeFrame.Minutes, compression=1, dataname=symbol, start_date=from_date, LiveBars=False)\n",
    "\n",
    "cerebro.adddata(data)  # Добавляем данные\n",
    "cerebro.addstrategy(StrategySaveOHLCVToDF, coin_target=coin_target)  # Добавляем торговую систему\n",
    "\n",
    "results = cerebro.run()  # Запуск торговой системы\n",
    "\n",
    "print(results[0].df)\n",
    "\n",
    "df = pd.DataFrame(results[0].df[symbol], columns=[\"datetime\", \"open\", \"high\", \"low\", \"close\", \"volume\"])\n",
    "print(df)\n",
    "\n",
    "tf = results[0].df_tf[symbol]\n",
    "\n",
    "# save to file\n",
    "df.to_csv(f\"{symbol}_{tf}_{num_days}days.csv\", index=False)\n",
    "\n",
    "# save to file\n",
    "#df[:-5].to_csv(f\"{symbol}_{tf}_minus_5_days.csv\", index=False)\n",
    "\n",
    "cerebro.plot()  # Рисуем график"
   ]
  }
 ],
 "metadata": {
  "kernelspec": {
   "display_name": "base",
   "language": "python",
   "name": "python3"
  },
  "language_info": {
   "codemirror_mode": {
    "name": "ipython",
    "version": 3
   },
   "file_extension": ".py",
   "mimetype": "text/x-python",
   "name": "python",
   "nbconvert_exporter": "python",
   "pygments_lexer": "ipython3",
   "version": "3.12.4"
  }
 },
 "nbformat": 4,
 "nbformat_minor": 2
}
